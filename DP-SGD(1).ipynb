{
 "cells": [
  {
   "cell_type": "code",
   "execution_count": 1,
   "id": "7cd7e386",
   "metadata": {
    "tags": []
   },
   "outputs": [],
   "source": [
    "import torch\n",
    "import torch.nn as nn\n",
    "MAX_GRAD_NORM = 1.2\n",
    "EPSILON = 50.0\n",
    "DELTA = 1e-10\n",
    "EPOCHS = 3\n",
    "\n",
    "LR = 1e-3\n",
    "\n",
    "BATCH_SIZE = 120\n",
    "MAX_PHYSICAL_BATCH_SIZE = 256\n",
    "from torchvision.models.mobilenet import mobilenet_v2"
   ]
  },
  {
   "cell_type": "code",
   "execution_count": 2,
   "id": "58bb61af",
   "metadata": {},
   "outputs": [
    {
     "data": {
      "text/plain": [
       "143.88489208633092"
      ]
     },
     "execution_count": 2,
     "metadata": {},
     "output_type": "execute_result"
    }
   ],
   "source": [
    "60000/417"
   ]
  },
  {
   "cell_type": "code",
   "execution_count": 3,
   "id": "2e0ffb9c",
   "metadata": {
    "tags": []
   },
   "outputs": [
    {
     "name": "stdout",
     "output_type": "stream",
     "text": [
      "Files already downloaded and verified\n",
      "50000\n"
     ]
    },
    {
     "data": {
      "text/plain": [
       "torch.Size([3, 32, 32])"
      ]
     },
     "execution_count": 3,
     "metadata": {},
     "output_type": "execute_result"
    }
   ],
   "source": [
    "from torchvision.datasets import MNIST, CIFAR10\n",
    "import torchvision.transforms as transforms\n",
    "\n",
    "\n",
    "\n",
    "DATA_ROOT = '../mnist'\n",
    "\n",
    "transform = transforms.Compose([\n",
    "    transforms.ToTensor(),\n",
    "])\n",
    "\n",
    "train_dataset = CIFAR10(\n",
    "    root=DATA_ROOT, train=True, download=True, transform=transform)\n",
    "\n",
    "train_loader = torch.utils.data.DataLoader(\n",
    "    train_dataset,\n",
    "    batch_size=BATCH_SIZE,\n",
    ")\n",
    "\n",
    "test_dataset = MNIST(\n",
    "    root=DATA_ROOT, train=False, download=True, transform=transform)\n",
    "\n",
    "test_loader = torch.utils.data.DataLoader(\n",
    "    test_dataset,\n",
    "    batch_size=BATCH_SIZE,\n",
    "    shuffle=False,\n",
    ")\n",
    "\n",
    "print(len(train_dataset))\n",
    "dataiter = iter(train_loader)\n",
    "images, labels = next(dataiter)\n",
    "images[0].size()"
   ]
  },
  {
   "cell_type": "code",
   "execution_count": 4,
   "id": "40e3632a",
   "metadata": {
    "tags": []
   },
   "outputs": [],
   "source": [
    "import numpy as np\n",
    "import torch.optim as optim\n",
    "from opacus.utils.batch_memory_manager import BatchMemoryManager\n",
    "\n",
    "\n",
    "def train(model, train_loader, optimizer, epoch, device):\n",
    "    model.train()\n",
    "    criterion = nn.CrossEntropyLoss()\n",
    "\n",
    "    losses = []\n",
    "    top1_acc = []\n",
    "    \n",
    "    with BatchMemoryManager(\n",
    "        data_loader=train_loader, \n",
    "        max_physical_batch_size=MAX_PHYSICAL_BATCH_SIZE, \n",
    "        optimizer=optimizer\n",
    "    ) as memory_safe_data_loader:\n",
    "\n",
    "        for i, (images, target) in enumerate(memory_safe_data_loader):   \n",
    "            optimizer.zero_grad()\n",
    "            images = images.to(device)\n",
    "            target = target.to(device)\n",
    "\n",
    "            # compute output\n",
    "            output = model(images)\n",
    "            loss = criterion(output, target)\n",
    "\n",
    "            preds = np.argmax(output.detach().cpu().numpy(), axis=1)\n",
    "            labels = target.detach().cpu().numpy()\n",
    "\n",
    "            # measure accuracy and record loss\n",
    "            acc = accuracy(preds, labels)\n",
    "\n",
    "            losses.append(loss.item())\n",
    "            top1_acc.append(acc)\n",
    "\n",
    "            loss.backward()\n",
    "            optimizer.step()\n",
    "            \n",
    "\n",
    "            if (i+1) % 200 == 0:\n",
    "                epsilon = privacy_engine.get_epsilon(DELTA)\n",
    "                print(\n",
    "                    f\"\\tTrain Epoch: {epoch} \\t\"\n",
    "                    f\"Loss: {np.mean(losses):.6f} \"\n",
    "                    f\"Acc@1: {np.mean(top1_acc) * 100:.6f} \"\n",
    "                    f\"(ε = {epsilon:.5f}, δ = {DELTA})\"\n",
    "                )\n",
    "    return np.mean(top1_acc), epsilon\n",
    "    "
   ]
  },
  {
   "cell_type": "code",
   "execution_count": 5,
   "id": "f9d41576",
   "metadata": {
    "tags": []
   },
   "outputs": [],
   "source": [
    "def test(model, test_loader, device):\n",
    "    model.eval()\n",
    "    criterion = nn.CrossEntropyLoss()\n",
    "    losses = []\n",
    "    top1_acc = []\n",
    "\n",
    "    with torch.no_grad():\n",
    "        for images, target in test_loader:\n",
    "            images = images.to(device)\n",
    "            target = target.to(device)\n",
    "\n",
    "            output = model(images)\n",
    "            loss = criterion(output, target)\n",
    "            preds = np.argmax(output.detach().cpu().numpy(), axis=1)\n",
    "            labels = target.detach().cpu().numpy()\n",
    "            acc = accuracy(preds, labels)\n",
    "\n",
    "            losses.append(loss.item())\n",
    "            top1_acc.append(acc)\n",
    "\n",
    "    top1_avg = np.mean(top1_acc)\n",
    "\n",
    "    print(\n",
    "        f\"\\tTest set:\"\n",
    "        f\"Loss: {np.mean(losses):.6f} \"\n",
    "        f\"Acc: {top1_avg * 100:.6f} \"\n",
    "    )\n",
    "    return np.mean(top1_acc)\n",
    "\n",
    "\n",
    "from tqdm.notebook import tqdm\n",
    "\n",
    "report = []\n",
    "\n",
    "def accuracy(preds, labels):\n",
    "    return (preds == labels).mean()\n",
    "\n",
    "#for epoch in tqdm(range(EPOCHS), desc=\"Epoch\", unit=\"epoch\"):\n",
    "#    results = train(model, train_loader, optimizer, epoch + 1, device)\n",
    "#    report.append(results)"
   ]
  },
  {
   "cell_type": "code",
   "execution_count": 6,
   "id": "839fe75c-8c8b-464d-ab0d-ecbe8a1c18d5",
   "metadata": {
    "tags": []
   },
   "outputs": [],
   "source": [
    "from opacus import PrivacyEngine\n",
    "import torch\n",
    "from torch import nn\n",
    "from torchvision import models\n",
    "from opacus.validators import ModuleValidator\n",
    "model = models.resnet18(num_classes=10)"
   ]
  },
  {
   "cell_type": "code",
   "execution_count": 7,
   "id": "2f41fa37-57a1-44a9-84b4-5615eda28fc0",
   "metadata": {
    "tags": []
   },
   "outputs": [],
   "source": [
    "import pandas as pd\n",
    "G_h =['eps_check','distortion','clip','q','k','theta']\n",
    "GU_h =['eps_check','distortion','clip','q', 'a', 'b', 'k','theta']\n",
    "#G250 = pd.read_csv(\"../arguments/G250_values.csv\", names = G_h)\n",
    "GU250 = pd.read_csv(\"../arguments/GU_values.csv\", names=GU_h)\n",
    "#N250 = pd.read_csv(\"../arguments/N250_values.csv\")"
   ]
  },
  {
   "cell_type": "code",
   "execution_count": 8,
   "id": "e49da3a2-f179-4029-b735-e7440d69e051",
   "metadata": {
    "tags": []
   },
   "outputs": [],
   "source": [
    "GU250 = GU250.sort_values(\"eps_check\")\n",
    "GU250.replace([np.inf, -np.inf], np.nan, inplace=True)\n",
    "GU250 = GU250.dropna()\n",
    "GU250 = GU250.reset_index()"
   ]
  },
  {
   "cell_type": "code",
   "execution_count": 9,
   "id": "b5a4e6b2",
   "metadata": {},
   "outputs": [
    {
     "data": {
      "text/plain": [
       "2.99917892702162"
      ]
     },
     "execution_count": 9,
     "metadata": {},
     "output_type": "execute_result"
    }
   ],
   "source": [
    "GU250['eps_check'][69313]"
   ]
  },
  {
   "cell_type": "code",
   "execution_count": 10,
   "id": "9e60f63c",
   "metadata": {},
   "outputs": [
    {
     "data": {
      "text/html": [
       "<div>\n",
       "<style scoped>\n",
       "    .dataframe tbody tr th:only-of-type {\n",
       "        vertical-align: middle;\n",
       "    }\n",
       "\n",
       "    .dataframe tbody tr th {\n",
       "        vertical-align: top;\n",
       "    }\n",
       "\n",
       "    .dataframe thead th {\n",
       "        text-align: right;\n",
       "    }\n",
       "</style>\n",
       "<table border=\"1\" class=\"dataframe\">\n",
       "  <thead>\n",
       "    <tr style=\"text-align: right;\">\n",
       "      <th></th>\n",
       "      <th>index</th>\n",
       "      <th>eps_check</th>\n",
       "      <th>distortion</th>\n",
       "      <th>clip</th>\n",
       "      <th>q</th>\n",
       "      <th>a</th>\n",
       "      <th>b</th>\n",
       "      <th>k</th>\n",
       "      <th>theta</th>\n",
       "    </tr>\n",
       "  </thead>\n",
       "  <tbody>\n",
       "    <tr>\n",
       "      <th>0</th>\n",
       "      <td>0</td>\n",
       "      <td>0.066010</td>\n",
       "      <td>0.000020</td>\n",
       "      <td>0.100000</td>\n",
       "      <td>0.002</td>\n",
       "      <td>0.000000</td>\n",
       "      <td>0.000010</td>\n",
       "      <td>1.000010</td>\n",
       "      <td>0.000010</td>\n",
       "    </tr>\n",
       "    <tr>\n",
       "      <th>1</th>\n",
       "      <td>1</td>\n",
       "      <td>0.066010</td>\n",
       "      <td>0.000020</td>\n",
       "      <td>0.100000</td>\n",
       "      <td>0.002</td>\n",
       "      <td>0.000000</td>\n",
       "      <td>0.000010</td>\n",
       "      <td>1.033401</td>\n",
       "      <td>0.000010</td>\n",
       "    </tr>\n",
       "    <tr>\n",
       "      <th>2</th>\n",
       "      <td>2</td>\n",
       "      <td>0.066010</td>\n",
       "      <td>0.000021</td>\n",
       "      <td>0.100000</td>\n",
       "      <td>0.002</td>\n",
       "      <td>0.000000</td>\n",
       "      <td>0.000010</td>\n",
       "      <td>1.000010</td>\n",
       "      <td>0.000011</td>\n",
       "    </tr>\n",
       "    <tr>\n",
       "      <th>3</th>\n",
       "      <td>3</td>\n",
       "      <td>0.066010</td>\n",
       "      <td>0.000023</td>\n",
       "      <td>0.100000</td>\n",
       "      <td>0.002</td>\n",
       "      <td>0.000000</td>\n",
       "      <td>0.000013</td>\n",
       "      <td>1.000010</td>\n",
       "      <td>0.000010</td>\n",
       "    </tr>\n",
       "    <tr>\n",
       "      <th>4</th>\n",
       "      <td>4</td>\n",
       "      <td>0.066010</td>\n",
       "      <td>0.000021</td>\n",
       "      <td>0.100000</td>\n",
       "      <td>0.002</td>\n",
       "      <td>0.000000</td>\n",
       "      <td>0.000010</td>\n",
       "      <td>1.033401</td>\n",
       "      <td>0.000011</td>\n",
       "    </tr>\n",
       "    <tr>\n",
       "      <th>...</th>\n",
       "      <td>...</td>\n",
       "      <td>...</td>\n",
       "      <td>...</td>\n",
       "      <td>...</td>\n",
       "      <td>...</td>\n",
       "      <td>...</td>\n",
       "      <td>...</td>\n",
       "      <td>...</td>\n",
       "      <td>...</td>\n",
       "    </tr>\n",
       "    <tr>\n",
       "      <th>33711</th>\n",
       "      <td>33711</td>\n",
       "      <td>0.445724</td>\n",
       "      <td>0.000999</td>\n",
       "      <td>0.164755</td>\n",
       "      <td>0.002</td>\n",
       "      <td>0.000010</td>\n",
       "      <td>0.000029</td>\n",
       "      <td>1.033401</td>\n",
       "      <td>0.000970</td>\n",
       "    </tr>\n",
       "    <tr>\n",
       "      <th>33714</th>\n",
       "      <td>33714</td>\n",
       "      <td>0.445771</td>\n",
       "      <td>0.000992</td>\n",
       "      <td>0.164755</td>\n",
       "      <td>0.002</td>\n",
       "      <td>0.000017</td>\n",
       "      <td>0.000022</td>\n",
       "      <td>1.033401</td>\n",
       "      <td>0.000970</td>\n",
       "    </tr>\n",
       "    <tr>\n",
       "      <th>33740</th>\n",
       "      <td>33740</td>\n",
       "      <td>0.446356</td>\n",
       "      <td>0.000999</td>\n",
       "      <td>0.164755</td>\n",
       "      <td>0.002</td>\n",
       "      <td>0.000013</td>\n",
       "      <td>0.000029</td>\n",
       "      <td>1.033401</td>\n",
       "      <td>0.000970</td>\n",
       "    </tr>\n",
       "    <tr>\n",
       "      <th>33772</th>\n",
       "      <td>33772</td>\n",
       "      <td>0.447183</td>\n",
       "      <td>0.000999</td>\n",
       "      <td>0.164755</td>\n",
       "      <td>0.002</td>\n",
       "      <td>0.000017</td>\n",
       "      <td>0.000029</td>\n",
       "      <td>1.033401</td>\n",
       "      <td>0.000970</td>\n",
       "    </tr>\n",
       "    <tr>\n",
       "      <th>33808</th>\n",
       "      <td>33808</td>\n",
       "      <td>0.448263</td>\n",
       "      <td>0.000999</td>\n",
       "      <td>0.164755</td>\n",
       "      <td>0.002</td>\n",
       "      <td>0.000022</td>\n",
       "      <td>0.000029</td>\n",
       "      <td>1.033401</td>\n",
       "      <td>0.000970</td>\n",
       "    </tr>\n",
       "  </tbody>\n",
       "</table>\n",
       "<p>22656 rows × 9 columns</p>\n",
       "</div>"
      ],
      "text/plain": [
       "       index  eps_check  distortion      clip      q         a         b  \\\n",
       "0          0   0.066010    0.000020  0.100000  0.002  0.000000  0.000010   \n",
       "1          1   0.066010    0.000020  0.100000  0.002  0.000000  0.000010   \n",
       "2          2   0.066010    0.000021  0.100000  0.002  0.000000  0.000010   \n",
       "3          3   0.066010    0.000023  0.100000  0.002  0.000000  0.000013   \n",
       "4          4   0.066010    0.000021  0.100000  0.002  0.000000  0.000010   \n",
       "...      ...        ...         ...       ...    ...       ...       ...   \n",
       "33711  33711   0.445724    0.000999  0.164755  0.002  0.000010  0.000029   \n",
       "33714  33714   0.445771    0.000992  0.164755  0.002  0.000017  0.000022   \n",
       "33740  33740   0.446356    0.000999  0.164755  0.002  0.000013  0.000029   \n",
       "33772  33772   0.447183    0.000999  0.164755  0.002  0.000017  0.000029   \n",
       "33808  33808   0.448263    0.000999  0.164755  0.002  0.000022  0.000029   \n",
       "\n",
       "              k     theta  \n",
       "0      1.000010  0.000010  \n",
       "1      1.033401  0.000010  \n",
       "2      1.000010  0.000011  \n",
       "3      1.000010  0.000010  \n",
       "4      1.033401  0.000011  \n",
       "...         ...       ...  \n",
       "33711  1.033401  0.000970  \n",
       "33714  1.033401  0.000970  \n",
       "33740  1.033401  0.000970  \n",
       "33772  1.033401  0.000970  \n",
       "33808  1.033401  0.000970  \n",
       "\n",
       "[22656 rows x 9 columns]"
      ]
     },
     "execution_count": 10,
     "metadata": {},
     "output_type": "execute_result"
    }
   ],
   "source": [
    "GU250.loc[(GU250['eps_check']  < 1) & (GU250['distortion']  < 0.001)]"
   ]
  },
  {
   "cell_type": "code",
   "execution_count": 11,
   "id": "94812723",
   "metadata": {
    "scrolled": false,
    "tags": []
   },
   "outputs": [
    {
     "name": "stdout",
     "output_type": "stream",
     "text": [
      "0.0009700240534092\n",
      "Files already downloaded and verified\n",
      "Files already downloaded and verified\n",
      "Begin training 33808\n"
     ]
    },
    {
     "name": "stderr",
     "output_type": "stream",
     "text": [
      "/home/knil/Documents/NextCloud/RAstuff/opacus/opacus/privacy_engine.py:96: UserWarning: Secure RNG turned off. This is perfectly fine for experimentation as it allows for much faster training performance, but remember to turn it on and retrain one last time before production with ``secure_mode`` turned on.\n",
      "  warnings.warn(\n"
     ]
    },
    {
     "data": {
      "application/vnd.jupyter.widget-view+json": {
       "model_id": "0365d6de5f7a4e8e9fa8d6b78c18ee8c",
       "version_major": 2,
       "version_minor": 0
      },
      "text/plain": [
       "Epoch:   0%|          | 0/5 [00:00<?, ?epoch/s]"
      ]
     },
     "metadata": {},
     "output_type": "display_data"
    },
    {
     "name": "stderr",
     "output_type": "stream",
     "text": [
      "/home/knil/.local/lib/python3.12/site-packages/torch/nn/modules/module.py:1373: UserWarning: Using a non-full backward hook when the forward contains multiple autograd Nodes is deprecated and will be removed in future versions. This hook will be missing some grad_input. Please use register_full_backward_hook to get the documented behavior.\n",
      "  warnings.warn(\"Using a non-full backward hook when the forward contains multiple autograd Nodes \"\n"
     ]
    },
    {
     "name": "stdout",
     "output_type": "stream",
     "text": [
      "200\n",
      "\tTrain Epoch: 1 \tLoss: 2.386589 Acc@1: 10.154667 (ε = 0.06641, δ = 1e-10)\n"
     ]
    },
    {
     "name": "stderr",
     "output_type": "stream",
     "text": [
      "/home/knil/Documents/NextCloud/RAstuff/opacus/opacus/accountants/analysis/rdp_plrv.py:191: UserWarning: Optimal order is the largest alpha. Please consider expanding the range of alphas to get a tighter privacy bound.\n",
      "  warnings.warn(\n"
     ]
    },
    {
     "name": "stdout",
     "output_type": "stream",
     "text": [
      "400\n",
      "\tTrain Epoch: 1 \tLoss: 2.402046 Acc@1: 10.153937 (ε = 0.08697, δ = 1e-10)\n",
      "617\n",
      "\tTrain Epoch: 2 \tLoss: 2.437017 Acc@1: 9.672232 (ε = 0.12443, δ = 1e-10)\n",
      "817\n",
      "\tTrain Epoch: 2 \tLoss: 2.452425 Acc@1: 9.794937 (ε = 0.15899, δ = 1e-10)\n",
      "1034\n",
      "\tTrain Epoch: 3 \tLoss: 2.483047 Acc@1: 9.946174 (ε = 0.19648, δ = 1e-10)\n",
      "1234\n",
      "\tTrain Epoch: 3 \tLoss: 2.496631 Acc@1: 10.002260 (ε = 0.23104, δ = 1e-10)\n",
      "1451\n",
      "\tTrain Epoch: 4 \tLoss: 2.507908 Acc@1: 9.823690 (ε = 0.26853, δ = 1e-10)\n",
      "1651\n",
      "\tTrain Epoch: 4 \tLoss: 2.497934 Acc@1: 10.062206 (ε = 0.30308, δ = 1e-10)\n",
      "1868\n",
      "\tTrain Epoch: 5 \tLoss: 2.518046 Acc@1: 9.830612 (ε = 0.34057, δ = 1e-10)\n",
      "2068\n",
      "\tTrain Epoch: 5 \tLoss: 2.535402 Acc@1: 9.886234 (ε = 0.37513, δ = 1e-10)\n",
      "1e-05\n",
      "Files already downloaded and verified\n",
      "Files already downloaded and verified\n",
      "Begin training 0\n"
     ]
    },
    {
     "data": {
      "application/vnd.jupyter.widget-view+json": {
       "model_id": "b5d844699aee4963be3b40d3614154a4",
       "version_major": 2,
       "version_minor": 0
      },
      "text/plain": [
       "Epoch:   0%|          | 0/5 [00:00<?, ?epoch/s]"
      ]
     },
     "metadata": {},
     "output_type": "display_data"
    },
    {
     "name": "stdout",
     "output_type": "stream",
     "text": [
      "200\n",
      "\tTrain Epoch: 1 \tLoss: 2.422625 Acc@1: 12.415090 (ε = 0.06629, δ = 1e-10)\n",
      "400\n",
      "\tTrain Epoch: 1 \tLoss: 2.235542 Acc@1: 16.632730 (ε = 0.06629, δ = 1e-10)\n",
      "617\n",
      "\tTrain Epoch: 2 \tLoss: 1.996653 Acc@1: 28.167243 (ε = 0.06629, δ = 1e-10)\n",
      "817\n",
      "\tTrain Epoch: 2 \tLoss: 2.037212 Acc@1: 30.715218 (ε = 0.06629, δ = 1e-10)\n",
      "1034\n",
      "\tTrain Epoch: 3 \tLoss: 2.227584 Acc@1: 36.338941 (ε = 0.06629, δ = 1e-10)\n",
      "1234\n",
      "\tTrain Epoch: 3 \tLoss: 2.276030 Acc@1: 37.296491 (ε = 0.06629, δ = 1e-10)\n",
      "1451\n",
      "\tTrain Epoch: 4 \tLoss: 2.508211 Acc@1: 40.641703 (ε = 0.06629, δ = 1e-10)\n",
      "1651\n",
      "\tTrain Epoch: 4 \tLoss: 2.542803 Acc@1: 41.266044 (ε = 0.06629, δ = 1e-10)\n",
      "1868\n",
      "\tTrain Epoch: 5 \tLoss: 2.635273 Acc@1: 43.339508 (ε = 0.06629, δ = 1e-10)\n",
      "2068\n",
      "\tTrain Epoch: 5 \tLoss: 2.655223 Acc@1: 43.712371 (ε = 0.06629, δ = 1e-10)\n"
     ]
    }
   ],
   "source": [
    "acc_plrv_2 = []\n",
    "from torchvision.models.mobilenet import mobilenet_v2\n",
    "for i in [33808, 0]:\n",
    "    torch.cuda.empty_cache()\n",
    "    args ={\n",
    "        \"a1\":1,\n",
    "        \"a3\":1,\n",
    "        \"a4\":1,\n",
    "        \"lam\":1,\n",
    "        \"moment\":1,\n",
    "        \"theta\":GU250['theta'][i],\n",
    "        'k':GU250['k'][i],\n",
    "        'mu':0,\n",
    "        'sigma':0.5,\n",
    "        'a':GU250['a'][i],\n",
    "        'b':GU250['b'][i],\n",
    "        'u':1,\n",
    "        'l':0.1,\n",
    "        'epsilon':1,\n",
    "        'max_grad_norm': GU250['clip'][i],\n",
    "        'gamma':True,\n",
    "        'uniform':True,\n",
    "        'truncnorm':False,\n",
    "    }\n",
    "    print(GU250['theta'][i])\n",
    "    EPOCHS = 5\n",
    "    BATCH_SIZE = 120\n",
    "    #print()\n",
    "    from torchvision.datasets import MNIST\n",
    "    import torchvision.transforms as transforms\n",
    "\n",
    "\n",
    "\n",
    "    DATA_ROOT = '../mnist'\n",
    "\n",
    "    transform = transforms.Compose([\n",
    "        transforms.ToTensor(),\n",
    "    ])\n",
    "\n",
    "    train_dataset = CIFAR10(\n",
    "        root=DATA_ROOT, train=True, download=True, transform=transform)\n",
    "\n",
    "    train_loader = torch.utils.data.DataLoader(\n",
    "        train_dataset,\n",
    "        batch_size=BATCH_SIZE,\n",
    "    )\n",
    "\n",
    "    test_dataset = CIFAR10(\n",
    "        root=DATA_ROOT, train=False, download=True, transform=transform)\n",
    "\n",
    "    test_loader = torch.utils.data.DataLoader(\n",
    "        test_dataset,\n",
    "        batch_size=BATCH_SIZE,\n",
    "        shuffle=False,\n",
    "    )\n",
    "    \n",
    "    #gen_args = find_values(15, i)\n",
    "    runs = []\n",
    "    trun = []\n",
    "\n",
    "    model = mobilenet_v2(num_classes=10)\n",
    "    #model.classifier[1] = torch.nn.Linear(in_features=model.classifier[1].in_features, out_features=10)\n",
    "    #model.conv1 = nn.Conv2d(1, 28, kernel_size=3, stride=1, padding=1, bias=False)\n",
    "    #model.load_state_dict(dic)\n",
    "    #model.train()\n",
    "\n",
    "\n",
    "    device = torch.device(\"cuda\" if torch.cuda.is_available() else \"cpu\")\n",
    "    model = ModuleValidator.fix(model)\n",
    "    model = model.to(device)\n",
    "\n",
    "    privacy_engine = PrivacyEngine(accountant = 'rdp_plrv')\n",
    "\n",
    "    optimizer = optim.RMSprop(model.parameters(), lr=LR)\n",
    "    print(\"Begin training \" + str(i))\n",
    "    model, optimizer, train_loader = privacy_engine.make_private_with_epsilon(\n",
    "            module=model,\n",
    "            optimizer=optimizer,\n",
    "            data_loader=train_loader,\n",
    "            noise_multiplier = 1,\n",
    "            epochs=EPOCHS,\n",
    "            target_epsilon=3,\n",
    "            target_delta=DELTA,\n",
    "            max_grad_norm=GU250['clip'][i],\n",
    "            PLRV_args=args,\n",
    "    )\n",
    "\n",
    "    plrv_report_acc = []\n",
    "    plrv_report_ep = []\n",
    "\n",
    "    for epoch in tqdm(range(EPOCHS), desc=\"Epoch\", unit=\"epoch\"):\n",
    "        acc, ep = train(model, train_loader, optimizer, epoch + 1, device)\n",
    "        plrv_report_acc.append(acc)\n",
    "        plrv_report_ep.append(ep)\n",
    "\n",
    "    acc_plrv_2.append((plrv_report_acc, plrv_report_ep))\n",
    "    del model\n",
    "    del optimizer\n",
    "    #del results\n",
    "#    torch.cuda.empty_cache()"
   ]
  },
  {
   "cell_type": "code",
   "execution_count": 13,
   "id": "de25fcfd",
   "metadata": {},
   "outputs": [],
   "source": [
    "acc_plrv_2 = [[(26.031835, 0.06629), \n",
    "              (9.886989, 0.45468),\n",
    "              (10.372164, 0.74685),\n",
    "              (10.037741, 1.06397),\n",
    "              (10.192874, 1.39833),\n",
    "              ], [(12.908223,0.06629),\n",
    "              (29.109944, 0.06630),\n",
    "              (35.943574, 0.06631),\n",
    "              (40.175252, 0.06632),\n",
    "              (43.476607, 0.06635),]\n",
    "             ]"
   ]
  },
  {
   "cell_type": "code",
   "execution_count": null,
   "id": "66e8051f",
   "metadata": {},
   "outputs": [],
   "source": [
    "GU250.head(-1)"
   ]
  },
  {
   "cell_type": "code",
   "execution_count": null,
   "id": "e14e64d9-24a3-4d49-9cc6-5f6caff1ccca",
   "metadata": {
    "tags": []
   },
   "outputs": [],
   "source": [
    "acc_plrv = []\n",
    "for i in range(1, len(GU250), int(len(GU250)/10)):\n",
    "    torch.cuda.empty_cache()\n",
    "    args ={\n",
    "        \"a1\":1,\n",
    "        \"a3\":1,\n",
    "        \"a4\":1,\n",
    "        \"lam\":1,\n",
    "        \"moment\":1,\n",
    "        \"theta\":GU250['theta'][i],\n",
    "        'k':GU250['k'][i],\n",
    "        'mu':0,\n",
    "        'sigma':0.5,\n",
    "        'a':GU250['a'][i],\n",
    "        'b':GU250['b'][i],\n",
    "        'u':1,\n",
    "        'l':0.1,\n",
    "        'epsilon':1,\n",
    "        'max_grad_norm': GU250['b'][i],\n",
    "        'gamma':True,\n",
    "        'uniform':False,\n",
    "        'truncnorm':False,\n",
    "    }\n",
    "    \n",
    "    #gen_args = find_values(15, i)\n",
    "    runs = []\n",
    "    trun = []\n",
    "\n",
    "    model = mobilenet_v2(num_classes=10)\n",
    "    #model.classifier[1] = torch.nn.Linear(in_features=model.classifier[1].in_features, out_features=10)\n",
    "    #model.conv1 = nn.Conv2d(1, 64, kernel_size=(7, 7), stride=(2, 2), padding=(3, 3), bias=False)\n",
    "    #model.load_state_dict(dic)\n",
    "    #model.train()\n",
    "\n",
    "\n",
    "    device = torch.device(\"cuda\" if torch.cuda.is_available() else \"cpu\")\n",
    "    model = ModuleValidator.fix(model)\n",
    "    model = model.to(device)\n",
    "\n",
    "    privacy_engine = PrivacyEngine(accountant = 'rdp_plrv')\n",
    "\n",
    "    optimizer = optim.RMSprop(model.parameters(), lr=LR)\n",
    "    print(\"Begin training \" + str(i))\n",
    "    model, optimizer, train_loader = privacy_engine.make_private_with_epsilon(\n",
    "            module=model,\n",
    "            optimizer=optimizer,\n",
    "            data_loader=train_loader,\n",
    "            noise_multiplier = 1,\n",
    "            epochs=10,\n",
    "            target_epsilon=0.15,\n",
    "            target_delta=DELTA,\n",
    "            max_grad_norm=GU250['clip'][i],\n",
    "            PLRV_args=args,\n",
    "    )\n",
    "\n",
    "    plrv_report_acc = []\n",
    "    plrv_report_ep = []\n",
    "\n",
    "    for epoch in tqdm(range(5), desc=\"Epoch\", unit=\"epoch\"):\n",
    "        acc, ep = train(model, train_loader, optimizer, epoch + 1, device)\n",
    "        plrv_report_acc.append(acc)\n",
    "        plrv_report_ep.append(ep)\n",
    "\n",
    "    acc_plrv.append((G250['distortion'][i], test(model, test_loader, device)))\n",
    "    del model\n",
    "    del optimizer\n",
    "    #del results\n",
    "#    torch.cuda.empty_cache()"
   ]
  },
  {
   "cell_type": "code",
   "execution_count": null,
   "id": "19b566b3-23ad-4f3f-8110-77e3a7dcd7b9",
   "metadata": {
    "tags": []
   },
   "outputs": [],
   "source": [
    "acc_plrv"
   ]
  },
  {
   "cell_type": "code",
   "execution_count": null,
   "id": "b1e14de1-6d68-4f93-a5e5-ca223a9f102f",
   "metadata": {
    "tags": []
   },
   "outputs": [],
   "source": [
    "g_eps = pd.read_csv('../arguments/gaussian_eps.csv', names = ['eps'])\n",
    "g_dist = pd.read_csv('../arguments/gaussian_dist.csv', names = ['distortion'])\n",
    "g_clip = pd.read_csv('../arguments/gaussian_clip.csv', names = ['clip'])"
   ]
  },
  {
   "cell_type": "code",
   "execution_count": null,
   "id": "d37e0357-8abb-4e3a-8057-2a1f8ec567b0",
   "metadata": {
    "tags": []
   },
   "outputs": [],
   "source": [
    "g_clip = g_clip.dropna()\n",
    "g_clip = g_clip.reset_index()"
   ]
  },
  {
   "cell_type": "code",
   "execution_count": null,
   "id": "4c17f880-d8b1-4879-8d6b-7eff2cc64cff",
   "metadata": {
    "tags": []
   },
   "outputs": [],
   "source": [
    "acc_rdp = []\n",
    "from torchvision.models.mobilenet import mobilenet_v2\n",
    "for i in [0.3, 100]:\n",
    "    print(i)\n",
    "    #gen_args = find_values(15, i)\n",
    "    runs = []\n",
    "    trun = []\n",
    "\n",
    "    model = mobilenet_v2(num_classes=10)\n",
    "    #model.conv1 = nn.Conv2d(1, 64, kernel_size=(7, 7), stride=(2, 2), padding=(3, 3), bias=False)\n",
    "    #model.load_state_dict(dic)\n",
    "    #model.train()\n",
    "\n",
    "\n",
    "    device = torch.device(\"cuda\" if torch.cuda.is_available() else \"cpu\")\n",
    "    model = ModuleValidator.fix(model)\n",
    "    model = model.to(device)\n",
    "    \n",
    "    privacy_engine = PrivacyEngine(accountant = 'rdp')\n",
    "\n",
    "    optimizer = optim.RMSprop(model.parameters(), lr=LR)\n",
    "    print(\"Begin training \" + str(i))\n",
    "    model, optimizer, train_loader = privacy_engine.make_private_with_epsilon(\n",
    "            module=model,\n",
    "            optimizer=optimizer,\n",
    "            data_loader=train_loader,\n",
    "            #noise_multiplier = 1,\n",
    "            epochs=5,\n",
    "            target_epsilon=i,\n",
    "            target_delta=1e-5,\n",
    "            max_grad_norm=10,\n",
    "            #PLRV_args=convert_params(gen_args),\n",
    "    )\n",
    "\n",
    "    plrv_report_acc = []\n",
    "    plrv_report_ep = []\n",
    "\n",
    "    for epoch in tqdm(range(5), desc=\"Epoch\", unit=\"epoch\"):\n",
    "        acc, ep = train(model, train_loader, optimizer, epoch + 1, device)\n",
    "        plrv_report_acc.append(acc)\n",
    "        plrv_report_ep.append(ep)\n",
    "\n",
    "    acc_rdp.append((plrv_report_acc, plrv_report_ep))\n",
    "    del model\n",
    "    del optimizer\n",
    "    #del results\n",
    "    torch.cuda.empty_cache()"
   ]
  },
  {
   "cell_type": "code",
   "execution_count": 14,
   "id": "fe9876e5",
   "metadata": {},
   "outputs": [],
   "source": [
    "acc_rdp = [[(10.306089,0.56131), \n",
    "              (10.231322,0.57970),\n",
    "              (10.162706,0.59808),\n",
    "              (10.364808,0.61647),\n",
    "              (10.803952,0.63486),\n",
    "              ], [(13.559350,91.20878),\n",
    "              (20.861802,108.71947),\n",
    "              (26.686870,126.23016),\n",
    "              (30.309798,143.74085),\n",
    "              (32.346740,157.19585),]\n",
    "             ]"
   ]
  },
  {
   "cell_type": "code",
   "execution_count": null,
   "id": "e5e5a83c-e729-448c-8dfc-833a2c798182",
   "metadata": {
    "tags": []
   },
   "outputs": [],
   "source": [
    "\n",
    "model = models.resnet18(num_classes=10)\n",
    "model.conv1 = nn.Conv2d(1, 64, kernel_size=(7, 7), stride=(2, 2), padding=(3, 3), bias=False)\n",
    "model = ModuleValidator.fix(model)\n",
    "device = torch.device(\"cuda\" if torch.cuda.is_available() else \"cpu\")\n",
    "model = model.to(device)\n",
    "privacy_engine = PrivacyEngine(accountant = 'rdp_plrv')\n",
    "\n",
    "optimizer = optim.RMSprop(model.parameters(), lr=LR)\n",
    "model, optimizer, train_loader = privacy_engine.make_private_with_epsilon(\n",
    "            module=model,\n",
    "            optimizer=optimizer,\n",
    "            data_loader=train_loader,\n",
    "            noise_multiplier = 1,\n",
    "            epochs=10,\n",
    "            target_epsilon=0.15,\n",
    "            target_delta=DELTA,\n",
    "            max_grad_norm=GU250['clip'][i],\n",
    "            PLRV_args=args,\n",
    "    )\n",
    "dic = model.state_dict()"
   ]
  },
  {
   "cell_type": "code",
   "execution_count": null,
   "id": "71412da4-6223-4f15-8c5e-e26f1da511ec",
   "metadata": {
    "tags": []
   },
   "outputs": [],
   "source": [
    "del model"
   ]
  },
  {
   "cell_type": "code",
   "execution_count": null,
   "id": "79b1a6aa",
   "metadata": {},
   "outputs": [],
   "source": [
    "acc_plrv_2.sort()\n",
    "acc_rdp.sort()\n",
    "dist_x = [i[0] for i in acc_plrv_2]\n",
    "acc_y = [i[1] for i in acc_plrv_2]\n",
    "dist_g = [i[0] for i in acc_rdp]\n",
    "acc_g = [i[1] for i in acc_rdp]\n",
    "import matplotlib.pyplot as plt\n",
    "plt.xlabel(\"distortion\")\n",
    "plt.ylabel(\"Accuracy\")\n",
    "plt.title(\"distortion vs accuracy\")\n",
    "plt.yscale('log')\n",
    "fig, ax1 = plt.subplots()\n",
    "ax1.plot(dist_x, acc_y, 'bo-', label=\"PLRV\")\n",
    "ax1.set_ylabel(\"Accuracy\")\n",
    "#ax1.set_yscale('log')\n",
    "ax2 = ax1.twiny()\n",
    "ax2.plot(dist_g, acc_g, 'ro-', label=\"Guassian\")\n",
    "#ax2.set_yscale('log')\n",
    "plt.legend(loc=\"lower right\")\n",
    "plt.show()"
   ]
  },
  {
   "cell_type": "code",
   "execution_count": null,
   "id": "8470d76b-c3c9-4092-a258-82fcf93419e0",
   "metadata": {
    "tags": []
   },
   "outputs": [],
   "source": [
    "acc_plrv_2.sort()\n",
    "acc_rdp.sort()\n",
    "dist_x = [i[2] for i in acc_plrv_2]\n",
    "acc_y = [i[1] for i in acc_plrv_2]\n",
    "dist_g = [i[0] for i in acc_rdp]\n",
    "acc_g = [i[1] for i in acc_rdp]\n",
    "import matplotlib.pyplot as plt\n",
    "plt.xlabel(\"distortion\")\n",
    "plt.ylabel(\"Accuracy\")\n",
    "plt.title(\"distortion vs accuracy\")\n",
    "plt.yscale('log')\n",
    "fig, ax1 = plt.subplots()\n",
    "ax1.plot(dist_x, acc_y, 'bo-', label=\"PLRV\")\n",
    "ax1.set_ylabel(\"Accuracy\")\n",
    "ax1.set_xscale('log')\n",
    "ax2 = ax1.twiny()\n",
    "ax2.plot(dist_g, acc_g, 'ro-', label=\"Guassian\")\n",
    "#ax2.set_yscale('log')\n",
    "plt.legend(loc=\"lower right\")\n",
    "plt.show()"
   ]
  },
  {
   "cell_type": "code",
   "execution_count": 15,
   "id": "c72c4d84-868d-4345-b497-ceee9b77bf58",
   "metadata": {},
   "outputs": [
    {
     "name": "stdout",
     "output_type": "stream",
     "text": [
      "[[(26.031835, 0.06629), (9.886989, 0.45468), (10.372164, 0.74685), (10.037741, 1.06397), (10.192874, 1.39833)], [(12.908223, 0.06629), (29.109944, 0.0663), (35.943574, 0.06631), (40.175252, 0.06632), (43.476607, 0.06635)]]\n",
      "[[(10.306089, 0.56131), (10.231322, 0.5797), (10.162706, 0.59808), (10.364808, 0.61647), (10.803952, 0.63486)], [(13.55935, 91.20878), (20.861802, 108.71947), (26.68687, 126.23016), (30.309798, 143.74085), (32.34674, 157.19585)]]\n"
     ]
    },
    {
     "data": {
      "image/png": "[encoded data removed]",
      "text/plain": [
       "<Figure size 640x480 with 1 Axes>"
      ]
     },
     "metadata": {},
     "output_type": "display_data"
    }
   ],
   "source": [
    "#acc_plrv_2.sort()\n",
    "#acc_rdp.sort()\n",
    "x_vals = range(1,6)\n",
    "print(acc_plrv_2)\n",
    "plrv1 = [i[1] for i in acc_plrv_2[0]]\n",
    "plrv2 = [i[1] for i in acc_plrv_2[1]]\n",
    "print(acc_rdp)\n",
    "g1 = [i[1] for i in acc_rdp[0]]\n",
    "g2 = [i[1] for i in acc_rdp[1]]\n",
    "import matplotlib.pyplot as plt\n",
    "plt.xlabel(\"Epochs\")\n",
    "plt.ylabel(\"Epsilon\")\n",
    "plt.title(\"Epochs vs Epsilon\")\n",
    "#plt.plot(x_vals, plrv1, 'b+-', label=\"PLRV 45% accuracy\")\n",
    "#plt.plot(x_vals, plrv2, 'bo--', label=\"PLRV 10% accuracy\")\n",
    "plt.plot(x_vals, g1, 'r+-', label=\"gaussian 10% accuracy\", linewidth=5)\n",
    "plt.plot(x_vals, g2, 'g--', label=\"gaussian 32% accuracy\")\n",
    "plt.plot(x_vals, plrv1, 'b+-', label=\"PLRV 1% accuracy\", linewidth=3)\n",
    "plt.plot(x_vals, plrv2, 'y--', label=\"PLRV 43% accuracy\")\n",
    "plt.yticks(np.logspace(0, 200, 5))\n",
    "plt.yscale(\"log\")\n",
    "plt.legend(loc=\"best\")\n",
    "plt.show()"
   ]
  },
  {
   "cell_type": "code",
   "execution_count": null,
   "id": "5d23362f-bed5-4c37-9ac4-fc61fd00a3b9",
   "metadata": {
    "tags": []
   },
   "outputs": [],
   "source": [
    "acc_plrv = []\n",
    "for i in range(1, 11):\n",
    "    gen_args = find_values(13, i)\n",
    "    runs = []\n",
    "    trun = []\n",
    "\n",
    "    #model = models.resnet18(num_classes=10)\n",
    "    #model.conv1 = nn.Conv2d(1, 64, kernel_size=(7, 7), stride=(2, 2), padding=(3, 3), bias=False)\n",
    "    model.load_state_dict(dic)\n",
    "    model.train()\n",
    "\n",
    "\n",
    "    device = torch.device(\"cuda\" if torch.cuda.is_available() else \"cpu\")\n",
    "\n",
    "    model = model.to(device)\n",
    "\n",
    "    privacy_engine = PrivacyEngine(accountant = 'rdp_plrv')\n",
    "\n",
    "    optimizer = optim.RMSprop(model.parameters(), lr=LR)\n",
    "    print(\"Begin training \" + str(i))\n",
    "    model, optimizer, train_loader = privacy_engine.make_private_with_epsilon(\n",
    "            module=model,\n",
    "            optimizer=optimizer,\n",
    "            data_loader=train_loader,\n",
    "            noise_multiplier = 1,\n",
    "            epochs=EPOCHS,\n",
    "            target_epsilon=0.15,\n",
    "            target_delta=DELTA,\n",
    "            max_grad_norm=i+1,\n",
    "            PLRV_args=convert_params(gen_args),\n",
    "    )\n",
    "\n",
    "    plrv_report_acc = []\n",
    "    plrv_report_ep = []\n",
    "\n",
    "    for epoch in tqdm(range(1), desc=\"Epoch\", unit=\"epoch\"):\n",
    "        acc, ep = train(model, train_loader, optimizer, epoch + 1, device)\n",
    "        plrv_report_acc.append(acc)\n",
    "        plrv_report_ep.append(ep)\n",
    "\n",
    "    acc_plrv.append(test(model, test_loader, device))\n",
    "#    del model\n",
    "    del optimizer\n",
    "    #del results\n",
    "#    torch.cuda.empty_cache()"
   ]
  },
  {
   "cell_type": "code",
   "execution_count": null,
   "id": "1ba4c6e1-dadd-4cc0-8aa9-6717a5847a96",
   "metadata": {},
   "outputs": [],
   "source": [
    "3**False"
   ]
  },
  {
   "cell_type": "code",
   "execution_count": null,
   "id": "300d8669-d93e-4ae5-9e14-58beadd4dbc7",
   "metadata": {},
   "outputs": [],
   "source": []
  },
  {
   "cell_type": "code",
   "execution_count": null,
   "id": "ca0ab683",
   "metadata": {},
   "outputs": [],
   "source": []
  },
  {
   "cell_type": "code",
   "execution_count": null,
   "id": "3e9111ff",
   "metadata": {},
   "outputs": [],
   "source": []
  }
 ],
 "metadata": {
  "kernelspec": {
   "display_name": "Python 3 (ipykernel)",
   "language": "python",
   "name": "python3"
  },
  "language_info": {
   "codemirror_mode": {
    "name": "ipython",
    "version": 3
   },
   "file_extension": ".py",
   "mimetype": "text/x-python",
   "name": "python",
   "nbconvert_exporter": "python",
   "pygments_lexer": "ipython3",
   "version": "3.12.3"
  }
 },
 "nbformat": 4,
 "nbformat_minor": 5
}
